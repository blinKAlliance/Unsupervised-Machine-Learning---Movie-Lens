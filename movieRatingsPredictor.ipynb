{
 "cells": [
  {
   "cell_type": "markdown",
   "metadata": {},
   "source": [
    "<div style=\"background-color: #add8e6; padding: 10px; color: black; padding-top: 2rem; padding-left: 1rem\">\n",
    "\n",
    "# Limitation(s) of Sklearn’s Non-Negative Matrix Factorization Library\n",
    "\n",
    "</div>"
   ]
  },
  {
   "cell_type": "markdown",
   "metadata": {},
   "source": [
    "## Project Outline\n",
    "\n",
    "Load the movie ratings data (as in the HW3-recommender-system) and use matrix factorization technique(s) and predict the missing ratings from the test data. Measure the RMSE. You should use sklearn library.\n",
    "\n",
    "Make sure that your notebook includes the following:\n",
    "\n",
    "use's sklearn's non-negative matrix factorization\n",
    "\n",
    "notebook shows the RMSE with an analysis of what that RMSE means\n",
    "\n",
    "Discuss the results and why they did not work well compared to simple baseline or similarity-based methods we’ve done in Module 3. Can you suggest a way(s) to fix it?\n",
    "\n",
    "Based on data set from https://www.kaggle.com/datasets/odedgolden/movielens-1m-dataset?select=movies.dat"
   ]
  },
  {
   "cell_type": "code",
   "execution_count": 1,
   "metadata": {},
   "outputs": [],
   "source": [
    "import numpy as np\n",
    "import pandas as pd\n",
    "import matplotlib.pyplot as plt\n",
    "from sklearn.decomposition import NMF\n",
    "from sklearn.metrics import mean_squared_error"
   ]
  },
  {
   "cell_type": "markdown",
   "metadata": {},
   "source": [
    "<div style=\"background-color: #add8e6; padding: 10px; color: black; padding-top: 2rem; padding-left: 1rem\">\n",
    "\n",
    "# Part 1\n",
    "\n",
    "</div>"
   ]
  },
  {
   "cell_type": "code",
   "execution_count": 2,
   "metadata": {},
   "outputs": [],
   "source": [
    "moviesDataSet = pd.read_csv('./sampleData/movies.dat', sep = \"::\", names = ['MovieID', 'Title', 'Genres'], encoding='latin-1', engine='python')\n",
    "ratingsDataSet = pd.read_csv('./sampleData/ratings.dat', sep = \"::\", names = ['UserID', 'MovieID', 'Rating', 'Timestamp'], encoding='latin-1', engine='python')\n",
    "usersDataSet = pd.read_csv('./sampleData/users.dat', sep = \"::\", names = ['UserID', 'Gender', 'Age', 'Occupation', 'ZipCode'], encoding='latin-1', engine='python')"
   ]
  },
  {
   "cell_type": "markdown",
   "metadata": {},
   "source": [
    "## Data Inspection"
   ]
  },
  {
   "cell_type": "code",
   "execution_count": 3,
   "metadata": {},
   "outputs": [
    {
     "name": "stdout",
     "output_type": "stream",
     "text": [
      "---------------- Movies Table ----------------\n",
      "       MovieID                               Title  \\\n",
      "0           1                    Toy Story (1995)   \n",
      "1           2                      Jumanji (1995)   \n",
      "2           3             Grumpier Old Men (1995)   \n",
      "3           4            Waiting to Exhale (1995)   \n",
      "4           5  Father of the Bride Part II (1995)   \n",
      "...       ...                                 ...   \n",
      "3878     3948             Meet the Parents (2000)   \n",
      "3879     3949          Requiem for a Dream (2000)   \n",
      "3880     3950                    Tigerland (2000)   \n",
      "3881     3951             Two Family House (2000)   \n",
      "3882     3952               Contender, The (2000)   \n",
      "\n",
      "                            Genres  \n",
      "0      Animation|Children's|Comedy  \n",
      "1     Adventure|Children's|Fantasy  \n",
      "2                   Comedy|Romance  \n",
      "3                     Comedy|Drama  \n",
      "4                           Comedy  \n",
      "...                            ...  \n",
      "3878                        Comedy  \n",
      "3879                         Drama  \n",
      "3880                         Drama  \n",
      "3881                         Drama  \n",
      "3882                Drama|Thriller  \n",
      "\n",
      "[3883 rows x 3 columns]\n",
      "---------------- Ratings Table ----------------\n",
      "          UserID  MovieID  Rating  Timestamp\n",
      "0             1     1193       5  978300760\n",
      "1             1      661       3  978302109\n",
      "2             1      914       3  978301968\n",
      "3             1     3408       4  978300275\n",
      "4             1     2355       5  978824291\n",
      "...         ...      ...     ...        ...\n",
      "1000204    6040     1091       1  956716541\n",
      "1000205    6040     1094       5  956704887\n",
      "1000206    6040      562       5  956704746\n",
      "1000207    6040     1096       4  956715648\n",
      "1000208    6040     1097       4  956715569\n",
      "\n",
      "[1000209 rows x 4 columns]\n",
      "---------------- Users Table ----------------\n",
      "       UserID Gender  Age  Occupation ZipCode\n",
      "0          1      F    1          10   48067\n",
      "1          2      M   56          16   70072\n",
      "2          3      M   25          15   55117\n",
      "3          4      M   45           7   02460\n",
      "4          5      M   25          20   55455\n",
      "...      ...    ...  ...         ...     ...\n",
      "6035    6036      F   25          15   32603\n",
      "6036    6037      F   45           1   76006\n",
      "6037    6038      F   56           1   14706\n",
      "6038    6039      F   45           0   01060\n",
      "6039    6040      M   25           6   11106\n",
      "\n",
      "[6040 rows x 5 columns]\n"
     ]
    }
   ],
   "source": [
    "print(\"---------------- Movies Table ----------------\\n\", moviesDataSet)\n",
    "print(\"---------------- Ratings Table ----------------\\n\", ratingsDataSet)\n",
    "print(\"---------------- Users Table ----------------\\n\", usersDataSet)\n"
   ]
  },
  {
   "cell_type": "markdown",
   "metadata": {},
   "source": [
    "## Exploratory Data Analysis"
   ]
  },
  {
   "cell_type": "code",
   "execution_count": 4,
   "metadata": {},
   "outputs": [
    {
     "name": "stdout",
     "output_type": "stream",
     "text": [
      "[[5.         4.18867925 4.18867925 ... 4.18867925 4.18867925 4.18867925]\n",
      " [3.71317829 3.71317829 3.71317829 ... 3.71317829 3.71317829 3.71317829]\n",
      " [3.90196078 3.90196078 3.90196078 ... 3.90196078 3.90196078 3.90196078]\n",
      " ...\n",
      " [3.8        3.8        3.8        ... 3.8        3.8        3.8       ]\n",
      " [3.87804878 3.87804878 3.87804878 ... 3.87804878 3.87804878 3.87804878]\n",
      " [3.         3.57771261 3.57771261 ... 3.57771261 3.57771261 3.57771261]]\n"
     ]
    }
   ],
   "source": [
    "# Creates a dict to map movie IDs to indices\n",
    "movieIdDict = {movie_id: index for index, movie_id in enumerate(moviesDataSet['MovieID'])}\n",
    "\n",
    "# I use vectorization for ratings and genres\n",
    "ratingsVectorization = np.zeros((len(usersDataSet), len(moviesDataSet)))\n",
    "\n",
    "for _, row in ratingsDataSet.iterrows():\n",
    "    ratingsVectorization[row['UserID'] - 1, movieIdDict[row['MovieID']]] = row['Rating']\n",
    "\n",
    "genreList = list(set('|'.join(moviesDataSet['Genres']).split('|')))\n",
    "movieGenres = np.zeros((len(moviesDataSet), len(genreList)))\n",
    "\n",
    "for _, row in moviesDataSet.iterrows():\n",
    "    for genre in row['Genres'].split('|'):\n",
    "        movieGenres[movieIdDict[row['MovieID']], genreList.index(genre)] = 1\n",
    "\n",
    "# Lastly I calculate the user averages\n",
    "userAverageRatings = np.copy(ratingsVectorization)\n",
    "\n",
    "userMeans = np.nanmean(np.where(userAverageRatings > 0, userAverageRatings, np.nan), axis=1)\n",
    "userAverageRatings[np.arange(len(usersDataSet)), :] = np.where(userAverageRatings == 0, userMeans[:, None], userAverageRatings)\n",
    "\n",
    "print(userAverageRatings)"
   ]
  },
  {
   "cell_type": "markdown",
   "metadata": {},
   "source": [
    "## Model Construction"
   ]
  },
  {
   "cell_type": "code",
   "execution_count": 5,
   "metadata": {},
   "outputs": [
    {
     "name": "stdout",
     "output_type": "stream",
     "text": [
      "(200, 100)\n",
      "[[4.32408751 4.16601153 4.17705446 ... 4.16799201 4.21104974 4.19823807]\n",
      " [3.87219924 3.70039282 3.64382996 ... 3.69490099 3.7590098  3.74664916]\n",
      " [3.99321796 3.88606634 3.8974834  ... 3.88394055 3.89980939 3.91358453]\n",
      " ...\n",
      " [3.91331786 3.78344693 3.75268084 ... 3.78359737 3.81289378 3.81150277]\n",
      " [3.46873053 3.15910745 3.18019049 ... 3.22004162 3.2449895  3.22216014]\n",
      " [3.11216289 2.98539972 2.98932255 ... 3.02632003 3.01558114 3.02912834]]\n",
      "[[5.         4.18867925 4.18867925 ... 4.18867925 4.18867925 4.18867925]\n",
      " [3.71317829 3.71317829 3.71317829 ... 3.71317829 3.71317829 3.71317829]\n",
      " [3.90196078 3.90196078 3.90196078 ... 3.90196078 3.90196078 3.90196078]\n",
      " ...\n",
      " [3.8        3.8        3.8        ... 3.8        3.8        3.8       ]\n",
      " [3.         3.21495327 3.21495327 ... 3.21495327 3.21495327 3.21495327]\n",
      " [3.02631579 3.02631579 3.02631579 ... 3.02631579 3.02631579 3.02631579]]\n"
     ]
    }
   ],
   "source": [
    "trainData = userAverageRatings[100:]\n",
    "testData = userAverageRatings[:100]\n",
    "\n",
    "nmfModel = NMF(n_components = 200, \n",
    "            beta_loss = 'frobenius',\n",
    "            random_state = 101, \n",
    "            max_iter = 500\n",
    "        ).fit(trainData)\n",
    "\n",
    "modelCompoents = nmfModel.components_\n",
    "modelTransform = nmfModel.transform(testData).T\n",
    "print(modelTransform.shape)\n",
    "\n",
    "predictions = np.dot(modelCompoents.T, modelTransform)\n",
    "print(predictions.T)\n",
    "print(testData)"
   ]
  },
  {
   "cell_type": "markdown",
   "metadata": {},
   "source": [
    "## RSME Calculations"
   ]
  },
  {
   "cell_type": "markdown",
   "metadata": {},
   "source": [
    "## RSME Method 1\n",
    "- This RMSE is calculated based on predictions generated by the model for a subset of the dataset.\n",
    "- This reflects the model's performance in predicting user ratings for movies in the subset."
   ]
  },
  {
   "cell_type": "code",
   "execution_count": 6,
   "metadata": {},
   "outputs": [
    {
     "name": "stdout",
     "output_type": "stream",
     "text": [
      "Standard RMSE: 0.9010878317744597\n"
     ]
    }
   ],
   "source": [
    "# Standard RSME calculations\n",
    "hundredUsersToPredict = ratingsDataSet[ratingsDataSet['UserID'] < 100]\n",
    "trueValues = hundredUsersToPredict['Rating'].to_list()\n",
    "\n",
    "userIndices = hundredUsersToPredict['UserID'].values - 1\n",
    "movieIndices = hundredUsersToPredict['MovieID'].apply(lambda x: movieIdDict.get(x, -1)).values\n",
    "\n",
    "predictedVals = predictions.T[userIndices, movieIndices].tolist()\n",
    "\n",
    "rmse = mean_squared_error(trueValues, predictedVals)\n",
    "print('Standard RMSE:', rmse)\n"
   ]
  },
  {
   "cell_type": "markdown",
   "metadata": {},
   "source": [
    "## RSME Method 2\n",
    "- This RMSE is determined based on a simpler method where every prediction is set to the constant value 4.\n",
    "- It serves as a baseline comparison, indicating the performance when predictions are consistently set to a single value."
   ]
  },
  {
   "cell_type": "code",
   "execution_count": 7,
   "metadata": {},
   "outputs": [
    {
     "name": "stdout",
     "output_type": "stream",
     "text": [
      "All Predicted as 4 RMSE: 1.3910077519379844\n"
     ]
    }
   ],
   "source": [
    "# The below predicts every value to be 4\n",
    "predictedFourList = [4] * 12900\n",
    "\n",
    "predictedFourRsme = mean_squared_error(trueValues, predictedFourList)\n",
    "print('All Predicted as 4 RMSE: ' + str(predictedFourRsme))"
   ]
  },
  {
   "cell_type": "markdown",
   "metadata": {},
   "source": [
    "## RSME Method 3\n",
    "- This RMSE is determined after replacing certain values in the test data with user mean ratings.\n",
    "- It assesses the model's performance when missing values are filled with user mean ratings, aiming to address sparsity."
   ]
  },
  {
   "cell_type": "code",
   "execution_count": 8,
   "metadata": {},
   "outputs": [
    {
     "name": "stdout",
     "output_type": "stream",
     "text": [
      "Emptied Out RMSE: 1.0257197290708486\n"
     ]
    }
   ],
   "source": [
    "testDataCopy = np.copy(testData)\n",
    "\n",
    "# User indices are extracted of hundredUsersToPredict and adjusted to 0-based indices.\n",
    "userIndices = hundredUsersToPredict['UserID'].values - 1\n",
    "\n",
    "# Movie indices applies the lamba function to every movie id.\n",
    "movieIndices = hundredUsersToPredict['MovieID'].apply(lambda x: movieIdDict.get(x, -1)).values\n",
    "testDataCopy[userIndices, movieIndices] = testData[userIndices].mean(axis=1)\n",
    "\n",
    "modelTransform = nmfModel.transform(testDataCopy).T\n",
    "emptiedPredictions = np.dot(modelCompoents.T, modelTransform)\n",
    "\n",
    "predictedVals = emptiedPredictions.T[userIndices, movieIndices].tolist()\n",
    "rsmeEmptied = mean_squared_error(trueValues, predictedVals)\n",
    "print('Emptied Out RMSE:', rsmeEmptied)"
   ]
  },
  {
   "cell_type": "markdown",
   "metadata": {},
   "source": [
    "## RSME Method 4\n",
    "- This RMSE is calculated based on predictions where missing values are replaced by the mean rating for each user.\n",
    "- It evaluates the model's performance when predictions are guided by user mean ratings for users in the subset."
   ]
  },
  {
   "cell_type": "code",
   "execution_count": 9,
   "metadata": {},
   "outputs": [
    {
     "name": "stdout",
     "output_type": "stream",
     "text": [
      "User Mean RMSE: 1.0447352392533193\n"
     ]
    }
   ],
   "source": [
    "# The below focuses on using the calculated user mean for any sort of missing values\n",
    "predictedList = []\n",
    "\n",
    "for index, row in hundredUsersToPredict.iterrows():\n",
    "    predictedList += [ratingsDataSet[ratingsDataSet['UserID'] == row['UserID']].groupby('UserID').mean()['Rating']]\n",
    "\n",
    "rmse_user_average = mean_squared_error(trueValues, predictedList)\n",
    "print('User Mean RMSE: ' + str(rmse_user_average))"
   ]
  },
  {
   "cell_type": "markdown",
   "metadata": {},
   "source": [
    "## Comparison Chart"
   ]
  },
  {
   "cell_type": "code",
   "execution_count": 10,
   "metadata": {},
   "outputs": [
    {
     "data": {
      "image/png": "[encoded data removed]",
      "text/plain": [
       "<Figure size 1400x600 with 1 Axes>"
      ]
     },
     "metadata": {},
     "output_type": "display_data"
    }
   ],
   "source": [
    "rmseValues = [rmse, predictedFourRsme, rsmeEmptied, rmse_user_average]\n",
    "\n",
    "# Plotting the RSME values for different methods and increasing the size.\n",
    "fig, subPlots = plt.subplots(figsize=(14, 6))\n",
    "\n",
    "plt.bar(['Standard', '4 As Every Prediction', 'User Mean As Every Rate', 'User Mean As Every Prediction'], \n",
    "        rmseValues, color = ['blue', 'purple', 'teal', 'magenta'])\n",
    "\n",
    "# Adding a title and labels\n",
    "plt.title(\"Comparison of RSME for Different Methods\")\n",
    "plt.xlabel(\"Evaluation Methods\")\n",
    "plt.ylabel(\"RSME\")\n",
    "plt.show()"
   ]
  },
  {
   "cell_type": "markdown",
   "metadata": {},
   "source": [
    "<div style=\"background-color: #add8e6; padding: 10px; color: black; padding-top: 2rem; padding-left: 1rem\">\n",
    "\n",
    "# Part 2\n",
    "\n",
    "</div>"
   ]
  },
  {
   "cell_type": "markdown",
   "metadata": {},
   "source": [
    "When looking at the final results above, you can tell from the RSME that the Non-negative Matrix Factorization really didn't perform well with this dataset. Especially when it came to making predictions on data that it has not seen. It really didn't add much compared to the standard basic prediction of user ratings.\n",
    "\n",
    "Since the dataset has a sense of sparsity when it comes to the information within, this may add limitations when using NMF. Since many of the user-movie interactions are missing data, it hinders the RSME methods from getting the best results in most cases.\n",
    "\n",
    "There are possibilities that we can do to address these concerns though. One strategy to solve the issues I mentioned above could be grouping the users/movies into smaller sets of data. If models are built using more localized subsets of data, it would be easier to eliminate the issues that we face in this dataset with the sparse data. This in turn, could enhance the accuracy of our predictions.  A one size fits all model doesn't really work here and being able to refine the model on smaller, targeted subsets would improve accuracy."
   ]
  }
 ],
 "metadata": {
  "kernelspec": {
   "display_name": "Python 3",
   "language": "python",
   "name": "python3"
  },
  "language_info": {
   "codemirror_mode": {
    "name": "ipython",
    "version": 3
   },
   "file_extension": ".py",
   "mimetype": "text/x-python",
   "name": "python",
   "nbconvert_exporter": "python",
   "pygments_lexer": "ipython3",
   "version": "3.11.5"
  }
 },
 "nbformat": 4,
 "nbformat_minor": 2
}
